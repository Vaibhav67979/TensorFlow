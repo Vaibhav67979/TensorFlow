{
  "nbformat": 4,
  "nbformat_minor": 0,
  "metadata": {
    "colab": {
      "provenance": [],
      "authorship_tag": "ABX9TyOTU8vIX91uM6Riq0oDom3K",
      "include_colab_link": true
    },
    "kernelspec": {
      "name": "python3",
      "display_name": "Python 3"
    },
    "language_info": {
      "name": "python"
    }
  },
  "cells": [
    {
      "cell_type": "markdown",
      "metadata": {
        "id": "view-in-github",
        "colab_type": "text"
      },
      "source": [
        "<a href=\"https://colab.research.google.com/github/Vaibhav67979/TensorFlow/blob/b1/NeuralNetworks/NeuralNetworks_Seq.ipynb\" target=\"_parent\"><img src=\"https://colab.research.google.com/assets/colab-badge.svg\" alt=\"Open In Colab\"/></a>"
      ]
    },
    {
      "cell_type": "markdown",
      "source": [
        "#Creating a Neural Network"
      ],
      "metadata": {
        "id": "fRFdapyaz1cP"
      }
    },
    {
      "cell_type": "markdown",
      "source": [
        "##Import"
      ],
      "metadata": {
        "id": "NeclpV880d-m"
      }
    },
    {
      "cell_type": "code",
      "source": [
        "import tensorflow as tf\n",
        "from tensorflow import keras\n",
        "\n",
        "import numpy as np\n",
        "import matplotlib.pyplot as plt"
      ],
      "metadata": {
        "id": "rTbZqIXMz7G-"
      },
      "execution_count": null,
      "outputs": []
    },
    {
      "cell_type": "markdown",
      "source": [
        "##Dataset\n",
        "\n",
        "**MNIST Fashion Dataset** : This is a dataset that is included in keras.\n",
        "\n",
        "This dataset includes 60,000 images for training and 10,000 images for validation/testing."
      ],
      "metadata": {
        "id": "cqWp_VO3Zsph"
      }
    },
    {
      "cell_type": "code",
      "source": [
        "fashion_mnist = keras.datasets.fashion_mnist  # load dataset\n",
        "\n",
        "(train_images, train_labels), (test_images, test_labels) = fashion_mnist.load_data()  # split into tetsing and training"
      ],
      "metadata": {
        "id": "pe3vN6B3Z64r"
      },
      "execution_count": null,
      "outputs": []
    },
    {
      "cell_type": "code",
      "source": [
        "train_images.shape"
      ],
      "metadata": {
        "colab": {
          "base_uri": "https://localhost:8080/"
        },
        "id": "MNklZE-3Z_cQ",
        "outputId": "92dcb90d-2216-4efb-e89f-bb36dc232bfb"
      },
      "execution_count": null,
      "outputs": [
        {
          "output_type": "execute_result",
          "data": {
            "text/plain": [
              "(60000, 28, 28)"
            ]
          },
          "metadata": {},
          "execution_count": 14
        }
      ]
    },
    {
      "cell_type": "markdown",
      "source": [
        "So we've got 60,000 images that are made up of 28x28 pixels (784 in total)."
      ],
      "metadata": {
        "id": "6CjyqOR5aRyz"
      }
    },
    {
      "cell_type": "code",
      "source": [
        "train_images[0,23,23]"
      ],
      "metadata": {
        "colab": {
          "base_uri": "https://localhost:8080/"
        },
        "id": "gLaoTvBOaHWy",
        "outputId": "869a7ece-6f03-425f-c715-721c0da4a7fa"
      },
      "execution_count": null,
      "outputs": [
        {
          "output_type": "execute_result",
          "data": {
            "text/plain": [
              "194"
            ]
          },
          "metadata": {},
          "execution_count": 15
        }
      ]
    },
    {
      "cell_type": "markdown",
      "source": [
        "Our pixel values are between 0 and 255, 0 being black and 255 being white. This means we have a grayscale image as there are no color channels."
      ],
      "metadata": {
        "id": "xXB05ouMaWk_"
      }
    },
    {
      "cell_type": "markdown",
      "source": [
        "Our pixel values are between 0 and 255, 0 being black and 255 being white. This means we have a grayscale image as there are no color channels."
      ],
      "metadata": {
        "id": "9YPrsTbPabv3"
      }
    },
    {
      "cell_type": "code",
      "source": [
        "train_labels[:10]"
      ],
      "metadata": {
        "colab": {
          "base_uri": "https://localhost:8080/"
        },
        "id": "GQWp0j7VacXb",
        "outputId": "d102e963-062f-4f7b-8104-c36f372c4b0c"
      },
      "execution_count": null,
      "outputs": [
        {
          "output_type": "execute_result",
          "data": {
            "text/plain": [
              "array([9, 0, 0, 3, 0, 2, 7, 2, 5, 5], dtype=uint8)"
            ]
          },
          "metadata": {},
          "execution_count": 16
        }
      ]
    },
    {
      "cell_type": "markdown",
      "source": [
        "Our labels are integers 0-9. Each integer represents a specific article of clothing. We'll create an array of label names to indicate which is which."
      ],
      "metadata": {
        "id": "bnO4bmB8af8z"
      }
    },
    {
      "cell_type": "code",
      "source": [
        "class_names = ['T-shirt/top', 'Trouser', 'Pullover', 'Dress', 'Coat',\n",
        "               'Sandal', 'Shirt', 'Sneaker', 'Bag', 'Ankle boot']"
      ],
      "metadata": {
        "id": "HPVfwKS8atij"
      },
      "execution_count": null,
      "outputs": []
    },
    {
      "cell_type": "code",
      "source": [
        "plt.figure()\n",
        "plt.imshow(train_images[156])\n",
        "plt.colorbar()\n",
        "plt.grid(False)\n",
        "plt.show()"
      ],
      "metadata": {
        "colab": {
          "base_uri": "https://localhost:8080/",
          "height": 265
        },
        "id": "U3J2GBcUaw2A",
        "outputId": "f12b4db8-f411-4588-8752-2698f13c1634"
      },
      "execution_count": null,
      "outputs": [
        {
          "output_type": "display_data",
          "data": {
            "text/plain": [
              "<Figure size 432x288 with 2 Axes>"
            ],
            "image/png": "[encoded data removed]"
          },
          "metadata": {
            "needs_background": "light"
          }
        }
      ]
    },
    {
      "cell_type": "markdown",
      "source": [
        "this is what our images in the dataset look like."
      ],
      "metadata": {
        "id": "GTxeMKtGbmXi"
      }
    },
    {
      "cell_type": "markdown",
      "source": [
        "##Data Preprocessing \n",
        "\n",
        "Preprocessing simply refers to perform series of operations to transform or change data so that the model can understand it.\n",
        "\n",
        "This simply means applying some prior transformations to our data before feeding it the model. In this case we will simply scale all our greyscale pixel values (0-255) to be between 0 and 1. We can do this by dividing each value in the training and testing sets by 255.0. We do this because smaller values will make it easier for the model to process our values."
      ],
      "metadata": {
        "id": "a2xMDptEcjXd"
      }
    },
    {
      "cell_type": "code",
      "source": [
        "train_images = train_images / 255.0\n",
        "\n",
        "test_images = test_images / 255.0"
      ],
      "metadata": {
        "id": "-wYYoUH-c-6e"
      },
      "execution_count": null,
      "outputs": []
    },
    {
      "cell_type": "markdown",
      "source": [
        "Note that applying the same preprocessing operation to both the training and testing data is necessary.\n"
      ],
      "metadata": {
        "id": "iRqQifE0dALU"
      }
    },
    {
      "cell_type": "markdown",
      "source": [
        "##Building the model\n",
        "\n",
        "here we define the architecture of our model including type and number of layers, as well as the activation funtions required.\n",
        "\n",
        " We are going to use a keras sequential model with three different layers. This model represents a feed-forward neural network (one that passes values from left to right)"
      ],
      "metadata": {
        "id": "954DmxlHeYgE"
      }
    },
    {
      "cell_type": "code",
      "source": [
        "model = keras.Sequential([\n",
        "    keras.layers.Flatten(input_shape=(28,28)), # layer 1 - input layer\n",
        "    keras.layers.Dense(128, activation = \"relu\"), # layer 2 - hidden layer\n",
        "    keras.layers.Dense(10, activation = \"softmax\") # layer 3 - ouput layer \n",
        "])"
      ],
      "metadata": {
        "id": "IXt_v6F1ec1N"
      },
      "execution_count": null,
      "outputs": []
    },
    {
      "cell_type": "markdown",
      "source": [
        "**Layer 1:** This is our input layer and it will conist of 784 neurons. We use the flatten layer with an input shape of (28,28) to denote that our input should come in in that shape. The flatten means that our layer will reshape the shape (28,28) array into a vector of 784 neurons so that each pixel will be associated with one neuron.\n",
        "\n",
        "**Layer 2:** This is our first and only hidden layer. The *dense* denotes that this layer will be fully connected and each neuron from the previous layer connects to each neuron of this layer. It has 128 neurons and uses the rectify linear unit activation function.\n",
        "\n",
        "**Layer 3:** This is our output later and is also a dense layer. It has 10 neurons that we will look at to determine our models output. Each neuron represnts the probabillity of a given image being one of the 10 different classes. The activation function *softmax* is used on this layer to calculate a probabillity distribution for each class. This means the value of any neuron in this layer will be between 0 and 1, where 1 represents a high probabillity of the image being that class."
      ],
      "metadata": {
        "id": "p8qiihPygI9H"
      }
    },
    {
      "cell_type": "markdown",
      "source": [
        "##Compiling the model\n",
        "\n",
        "here we pick the optimizer, loss and the metrics\n",
        "\n",
        "these values can be changed depending on the desired results - called hyperparameter tuning.\n",
        "\n",
        "activation functions, type and number of connections are also hyperparameters that can be tuned."
      ],
      "metadata": {
        "id": "Tx3u0FqwgoCT"
      }
    },
    {
      "cell_type": "code",
      "source": [
        "model.compile(optimizer='adam',\n",
        "              loss='sparse_categorical_crossentropy',\n",
        "              metrics=['accuracy'])"
      ],
      "metadata": {
        "id": "VkTe3eyGhkJO"
      },
      "execution_count": null,
      "outputs": []
    },
    {
      "cell_type": "markdown",
      "source": [
        "##Training the model\n",
        "\n"
      ],
      "metadata": {
        "id": "y5dEgoLGhoQ2"
      }
    },
    {
      "cell_type": "code",
      "source": [
        "model.fit(train_images, train_labels, epochs=10)  # we pass the data, labels and epochs and watch the magic!"
      ],
      "metadata": {
        "colab": {
          "base_uri": "https://localhost:8080/"
        },
        "id": "eZezoGe-hueu",
        "outputId": "04fe7375-7a43-41ff-87f9-656b84671f3b"
      },
      "execution_count": null,
      "outputs": [
        {
          "output_type": "stream",
          "name": "stdout",
          "text": [
            "Epoch 1/10\n",
            "1875/1875 [==============================] - 4s 2ms/step - loss: 0.5055 - accuracy: 0.8217\n",
            "Epoch 2/10\n",
            "1875/1875 [==============================] - 3s 2ms/step - loss: 0.3795 - accuracy: 0.8638\n",
            "Epoch 3/10\n",
            "1875/1875 [==============================] - 3s 2ms/step - loss: 0.3389 - accuracy: 0.8759\n",
            "Epoch 4/10\n",
            "1875/1875 [==============================] - 3s 2ms/step - loss: 0.3155 - accuracy: 0.8839\n",
            "Epoch 5/10\n",
            "1875/1875 [==============================] - 3s 2ms/step - loss: 0.2959 - accuracy: 0.8912\n",
            "Epoch 6/10\n",
            "1875/1875 [==============================] - 3s 2ms/step - loss: 0.2824 - accuracy: 0.8947\n",
            "Epoch 7/10\n",
            "1875/1875 [==============================] - 3s 2ms/step - loss: 0.2698 - accuracy: 0.8992\n",
            "Epoch 8/10\n",
            "1875/1875 [==============================] - 3s 2ms/step - loss: 0.2608 - accuracy: 0.9039\n",
            "Epoch 9/10\n",
            "1875/1875 [==============================] - 3s 2ms/step - loss: 0.2486 - accuracy: 0.9079\n",
            "Epoch 10/10\n",
            "1875/1875 [==============================] - 3s 2ms/step - loss: 0.2417 - accuracy: 0.9102\n"
          ]
        },
        {
          "output_type": "execute_result",
          "data": {
            "text/plain": [
              "<keras.callbacks.History at 0x7f39e559b8b0>"
            ]
          },
          "metadata": {},
          "execution_count": 25
        }
      ]
    },
    {
      "cell_type": "markdown",
      "source": [
        "epochs is also a hyperparameter which can result in overfitting if it's too large."
      ],
      "metadata": {
        "id": "eNXKLU2LkdjX"
      }
    },
    {
      "cell_type": "markdown",
      "source": [
        "##Evaluating the model\n",
        "\n",
        "We can do this quite easily using another builtin method from keras.\n",
        "\n",
        "The verbose argument is defined from the keras documentation as: \"verbose: 0 or 1. Verbosity mode. 0 = silent, 1 = progress bar.\""
      ],
      "metadata": {
        "id": "IS8cKQ1WkPC6"
      }
    },
    {
      "cell_type": "code",
      "source": [
        "test_loss, test_acc = model.evaluate(test_images,  test_labels, verbose=1) \n",
        "\n",
        "print('Test accuracy:', test_acc)"
      ],
      "metadata": {
        "colab": {
          "base_uri": "https://localhost:8080/"
        },
        "id": "NQqK52iAkSe3",
        "outputId": "47092415-5e97-45fe-e34c-e92e32bba79c"
      },
      "execution_count": null,
      "outputs": [
        {
          "output_type": "stream",
          "name": "stdout",
          "text": [
            "313/313 [==============================] - 0s 1ms/step - loss: 0.3287 - accuracy: 0.8855\n",
            "Test accuracy: 0.8855000138282776\n"
          ]
        }
      ]
    },
    {
      "cell_type": "markdown",
      "source": [
        "You'll likely notice that the accuracy here is lower than when training the model. This difference is reffered to as **overfitting**.\n",
        "\n",
        "Overfitting occurs when the model fits more data than required, and it tries to capture each and every datapoint fed to it. Hence it starts capturing noise and inaccurate data from the dataset, which degrades the performance of the model.\n",
        "\n",
        "if the model is fed the same data too many times it kinda memorizes the datapoints and when it encounters new test data it might predict wrongly resulting in lesser accuracy.\n"
      ],
      "metadata": {
        "id": "mFehwOARkvpH"
      }
    },
    {
      "cell_type": "markdown",
      "source": [
        "##Predictions\n",
        "\n",
        "To make predictions we simply need to pass an array of data in the form we've specified in the input layer to ```.predict()``` method."
      ],
      "metadata": {
        "id": "24m6jqmJlV9o"
      }
    },
    {
      "cell_type": "code",
      "source": [
        "predictions = model.predict(test_images)"
      ],
      "metadata": {
        "colab": {
          "base_uri": "https://localhost:8080/"
        },
        "id": "Ibj_bLVwmYkM",
        "outputId": "b565826b-3d84-42eb-dc11-a6a70b93d450"
      },
      "execution_count": null,
      "outputs": [
        {
          "output_type": "stream",
          "name": "stdout",
          "text": [
            "313/313 [==============================] - 0s 1ms/step\n"
          ]
        }
      ]
    },
    {
      "cell_type": "markdown",
      "source": [
        "if we look at the results of predictions it returns an array of arrays which is essentially the array of probabilities of the each object in the test images belonging to each class"
      ],
      "metadata": {
        "id": "KgPd4LUemigr"
      }
    },
    {
      "cell_type": "code",
      "source": [
        "predictions"
      ],
      "metadata": {
        "colab": {
          "base_uri": "https://localhost:8080/"
        },
        "id": "c1Fxy380mfai",
        "outputId": "8fb2338f-b86c-440c-eaf0-9e4e463c7ee5"
      },
      "execution_count": null,
      "outputs": [
        {
          "output_type": "execute_result",
          "data": {
            "text/plain": [
              "array([[9.9518829e-06, 4.0613706e-08, 2.5142269e-08, ..., 3.5698473e-02,\n",
              "        7.8420402e-07, 9.5296353e-01],\n",
              "       [5.3759435e-05, 6.9642053e-10, 9.9523193e-01, ..., 1.2689438e-10,\n",
              "        2.5368800e-08, 1.3686726e-11],\n",
              "       [9.3290031e-10, 9.9999994e-01, 3.2062131e-11, ..., 3.3564532e-21,\n",
              "        4.9092566e-13, 9.9027226e-20],\n",
              "       ...,\n",
              "       [2.0040744e-03, 1.1659916e-08, 1.1755022e-04, ..., 1.6567062e-11,\n",
              "        9.9726486e-01, 1.1412717e-11],\n",
              "       [2.0371138e-07, 9.9997061e-01, 3.6033608e-08, ..., 1.7921213e-11,\n",
              "        4.4042463e-09, 8.4997231e-10],\n",
              "       [9.7188840e-06, 4.9368161e-08, 1.8032604e-05, ..., 8.1425719e-04,\n",
              "        8.7349086e-05, 1.2316762e-06]], dtype=float32)"
            ]
          },
          "metadata": {},
          "execution_count": 28
        }
      ]
    },
    {
      "cell_type": "markdown",
      "source": [
        "the ``` .predict ``` method takes in an argument as an array so we pass the whole test_images array as the argument instead of a single element. Though we can also predict for just a single element but we will have to pass it as an array.\n",
        "\n",
        "```\n",
        "predictions = model.predict([test_images[0]])\n",
        "```\n",
        "or else we can predict for the whole array and just print out the prediction for the element we need.\n",
        "\n"
      ],
      "metadata": {
        "id": "_hsDVm5wm59d"
      }
    },
    {
      "cell_type": "code",
      "source": [
        "predictions[0]"
      ],
      "metadata": {
        "colab": {
          "base_uri": "https://localhost:8080/"
        },
        "id": "zsNV5FQ2n1DH",
        "outputId": "0a30df69-bed4-4233-b8e5-067f80762d1b"
      },
      "execution_count": null,
      "outputs": [
        {
          "output_type": "execute_result",
          "data": {
            "text/plain": [
              "array([9.9518829e-06, 4.0613706e-08, 2.5142269e-08, 3.5221481e-10,\n",
              "       4.3781057e-07, 1.1326547e-02, 1.6700061e-07, 3.5698473e-02,\n",
              "       7.8420402e-07, 9.5296353e-01], dtype=float32)"
            ]
          },
          "metadata": {},
          "execution_count": 30
        }
      ]
    },
    {
      "cell_type": "markdown",
      "source": [
        "Suppose if we want to predict the class of the 1st element i.e, the index 0, we can predict for the whole array and jjust print out the prediction for the 0th index, but it returns out an array of probabilities, so if we wan't to get the value with the highest score we can use a useful function from numpy called argmax(). This simply returns the index of the maximium value from a numpy array and we can map it to the class names."
      ],
      "metadata": {
        "id": "60Gm_ZC_oGXO"
      }
    },
    {
      "cell_type": "code",
      "source": [
        "print(class_names[np.argmax(predictions[0])])"
      ],
      "metadata": {
        "colab": {
          "base_uri": "https://localhost:8080/"
        },
        "id": "vjrMTitEoeiI",
        "outputId": "1fa9b0c8-a4f7-4a0a-99ad-380148845d6f"
      },
      "execution_count": null,
      "outputs": [
        {
          "output_type": "stream",
          "name": "stdout",
          "text": [
            "Ankle boot\n"
          ]
        }
      ]
    },
    {
      "cell_type": "markdown",
      "source": [
        "we can verify it visually by checking out the actual image"
      ],
      "metadata": {
        "id": "Priis0bOpbdt"
      }
    },
    {
      "cell_type": "code",
      "source": [
        "plt.figure()\n",
        "plt.imshow(test_images[0])\n",
        "plt.colorbar()\n",
        "plt.grid(False)\n",
        "plt.show()"
      ],
      "metadata": {
        "id": "nVDWhuvdphve",
        "outputId": "de4b09ac-7645-42ec-e8da-bae625bca964",
        "colab": {
          "base_uri": "https://localhost:8080/",
          "height": 269
        }
      },
      "execution_count": null,
      "outputs": [
        {
          "output_type": "display_data",
          "data": {
            "text/plain": [
              "<Figure size 432x288 with 2 Axes>"
            ],
            "image/png": "[encoded data removed]"
          },
          "metadata": {
            "needs_background": "light"
          }
        }
      ]
    }
  ]
}